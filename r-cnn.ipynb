{
 "cells": [],
 "metadata": {
  "interpreter": {
   "hash": "dad3fe31bdc6fcdda96ef01c04985bacd8b5a40aacfc05c12c1fe14f19308c61"
  },
  "kernelspec": {
   "display_name": "Python 3.7.11 64-bit ('3a_ia': conda)",
   "name": "python3"
  },
  "language_info": {
   "codemirror_mode": {
    "name": "ipython",
    "version": 3
   },
   "file_extension": ".py",
   "mimetype": "text/x-python",
   "name": "python",
   "nbconvert_exporter": "python",
   "pygments_lexer": "ipython3",
   "version": "3.7.11"
  },
  "orig_nbformat": 4
 },
 "nbformat": 4,
 "nbformat_minor": 2
}
