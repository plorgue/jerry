{
 "cells": [
  {
   "cell_type": "code",
   "execution_count": null,
   "metadata": {},
   "outputs": [],
   "source": [
    "import os \n",
    "import numpy as np\n",
    "import xml.etree.ElementTree as ET\n",
    "from collections import OrderedDict\n",
    "import matplotlib.pyplot as plt\n",
    "import pandas as pd "
   ]
  },
  {
   "cell_type": "code",
   "execution_count": null,
   "metadata": {},
   "outputs": [],
   "source": [
    "dir_anno = \"data/VOCdevkit/VOC2012/Annotations\"\n",
    "img_dir  = \"data/VOCdevkit/VOC2012/JPEGImages\""
   ]
  },
  {
   "cell_type": "code",
   "execution_count": null,
   "metadata": {},
   "outputs": [],
   "source": [
    "def extract_single_xml_file(tree):\n",
    "    Nobj = 0\n",
    "    row  = OrderedDict()\n",
    "    for elems in tree.iter():\n",
    "\n",
    "        if elems.tag == \"size\":\n",
    "            for elem in elems:\n",
    "                row[elem.tag] = int(elem.text)\n",
    "        if elems.tag == \"object\":\n",
    "            for elem in elems:\n",
    "                if elem.tag == \"name\":\n",
    "                    row[\"bbx_{}_{}\".format(Nobj,elem.tag)] = str(elem.text)              \n",
    "                if elem.tag == \"bndbox\":\n",
    "                    for k in elem:\n",
    "                        row[\"bbx_{}_{}\".format(Nobj,k.tag)] = float(k.text)\n",
    "                    Nobj += 1\n",
    "    row[\"Nobj\"] = Nobj\n",
    "    return(row)"
   ]
  },
  {
   "cell_type": "code",
   "execution_count": null,
   "metadata": {},
   "outputs": [],
   "source": [
    "df_anno = []\n",
    "for fnm in os.listdir(dir_anno):  \n",
    "    if not fnm.startswith('.'): ## do not include hidden folders/files\n",
    "        tree = ET.parse(os.path.join(dir_anno,fnm))\n",
    "        row = extract_single_xml_file(tree)\n",
    "        row[\"fileID\"] = fnm.split(\".\")[0]\n",
    "        df_anno.append(row)\n",
    "df_anno = pd.DataFrame(df_anno)\n",
    "\n",
    "maxNobj = np.max(df_anno[\"Nobj\"])"
   ]
  },
  {
   "cell_type": "code",
   "execution_count": null,
   "metadata": {},
   "outputs": [],
   "source": [
    "print(\"columns in df_anno\\n-----------------\")\n",
    "for icol, colnm in enumerate(df_anno.columns):\n",
    "    print(\"{:3.0f}: {}\".format(icol,colnm))\n",
    "print(\"-\"*30)\n",
    "print(\"df_anno.shape={}=(N frames, N columns)\".format(df_anno.shape))\n",
    "df_anno.head()"
   ]
  }
 ],
 "metadata": {
  "interpreter": {
   "hash": "dad3fe31bdc6fcdda96ef01c04985bacd8b5a40aacfc05c12c1fe14f19308c61"
  },
  "kernelspec": {
   "display_name": "Python 3.7.11 64-bit ('3a_ia': conda)",
   "name": "python3"
  },
  "language_info": {
   "codemirror_mode": {
    "name": "ipython",
    "version": 3
   },
   "file_extension": ".py",
   "mimetype": "text/x-python",
   "name": "python",
   "nbconvert_exporter": "python",
   "pygments_lexer": "ipython3",
   "version": "3.9.7"
  },
  "orig_nbformat": 4
 },
 "nbformat": 4,
 "nbformat_minor": 2
}
